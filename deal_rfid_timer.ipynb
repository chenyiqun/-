{
 "cells": [
  {
   "cell_type": "code",
   "execution_count": 1,
   "id": "49eb5b92",
   "metadata": {},
   "outputs": [],
   "source": [
    "# 原始数据（针对某一套计时器和RFID）\n",
    "rfids_init = [('a5', 15.43),\n",
    " ('a1', 15.79),\n",
    " ('a3', 16.34),\n",
    " ('a4', 20.44),\n",
    " ('a2', 20.79),\n",
    " ('a5', 25.43),\n",
    " ('a1', 25.79),\n",
    " ('a3', 26.34),\n",
    " ('a4', 30.36),\n",
    " ('a2', 30.89),\n",
    " ('a5', 35.43),\n",
    " ('a1', 35.79),\n",
    " ('a3', 36.34),\n",
    " ('a4', 40.45),\n",
    " ('a2', 40.79),\n",
    " ('a5', 45.43),\n",
    " ('a1', 45.79),\n",
    " ('a3', 46.34),\n",
    " ('a4', 50.39),\n",
    " ('a2', 50.79)]\n",
    "\n",
    "timers_init = [15.43,\n",
    " 15.68,\n",
    " 15.99,\n",
    " 16.42,\n",
    " 20.41,\n",
    " 20.77,\n",
    " 25.37,\n",
    " 25.68,\n",
    " 25.99,\n",
    " 26.42,\n",
    " 26.77,\n",
    " 30.32,\n",
    " 35.25,\n",
    " 35.68,\n",
    " 35.99,\n",
    " 36.42,\n",
    " 36.77,\n",
    " 40.55,\n",
    " 45.68,\n",
    " 45.89,\n",
    " 45.99,\n",
    " 46.42,\n",
    " 46.77,\n",
    " 50.39,\n",
    " 50.42,\n",
    " 50.68,\n",
    " 50.77,\n",
    " 50.99]"
   ]
  },
  {
   "cell_type": "code",
   "execution_count": 2,
   "id": "09327e91",
   "metadata": {},
   "outputs": [],
   "source": [
    "# 处理原始的rfid数据\n",
    "def deal_rfids(rfids_init):\n",
    "\n",
    "    rfids = []\n",
    "\n",
    "    last_t = rfids_init[0][1]\n",
    "    temp = []\n",
    "    for i in range(len(rfids_init)):\n",
    "        delta_t = rfids_init[i][1] - last_t\n",
    "        last_t = rfids_init[i][1]\n",
    "        if delta_t <= 1:\n",
    "            temp.append(rfids_init[i])\n",
    "        else:\n",
    "            rfids.append(temp)\n",
    "            temp = [rfids_init[i]]\n",
    "    rfids.append(temp)\n",
    "    \n",
    "    return rfids"
   ]
  },
  {
   "cell_type": "code",
   "execution_count": 3,
   "id": "70c4f7aa",
   "metadata": {},
   "outputs": [],
   "source": [
    "# 处理原始计时器数据\n",
    "def deal_timers(rfids, timers_init):\n",
    "\n",
    "    timers = []\n",
    "\n",
    "    temp = []\n",
    "    for rfid in rfids:\n",
    "        min_t = rfid[0][1]\n",
    "        max_t = rfid[-1][1]\n",
    "        temp = []\n",
    "        for time in timers_init:\n",
    "            if time >= min_t-0.1 and time <= max_t+0.1:\n",
    "                temp.append(time)\n",
    "            if time > max_t:\n",
    "                timers.append(temp)\n",
    "                break\n",
    "                \n",
    "    return timers"
   ]
  },
  {
   "cell_type": "code",
   "execution_count": 4,
   "id": "15556767",
   "metadata": {},
   "outputs": [],
   "source": [
    "# 将rfid数据处理成需要的格式\n",
    "def trans_form(rfids):\n",
    "    temp = []\n",
    "    for r in rfids:\n",
    "        r = dict(r)\n",
    "        temp.append(r)\n",
    "    return temp"
   ]
  },
  {
   "cell_type": "code",
   "execution_count": 5,
   "id": "b8d1cfdc",
   "metadata": {},
   "outputs": [],
   "source": [
    "# 输入rfid数据，输出排序后的rfid数据和delta_t。\n",
    "def get_order_delta(rfid):\n",
    "    \n",
    "    ordered_time = sorted(rfid.items(),key=lambda x:x[1],reverse=False)\n",
    "    \n",
    "    delta_t = []\n",
    "    for i in range(1, len(ordered_time)):\n",
    "        temp = ordered_time[i][1] - ordered_time[i-1][1]\n",
    "        delta_t.append(temp)\n",
    "        \n",
    "    return ordered_time, delta_t"
   ]
  },
  {
   "cell_type": "code",
   "execution_count": 6,
   "id": "ac505ab2",
   "metadata": {},
   "outputs": [],
   "source": [
    "# 将处理后的数据添加到存储运动员时间的数组。\n",
    "def add_time(rfid, timer):\n",
    "    \n",
    "    ordered_time, delta_t = get_order_delta(rfid)\n",
    "    \n",
    "    temp = timer[0]\n",
    "    first_athlete_id = ordered_time[0][0]\n",
    "    athletes_times[first_athlete_id].append(round(temp, 2))\n",
    "    for i in range(len(ordered_time)-1):\n",
    "        athlete_id = ordered_time[i+1][0]\n",
    "        temp += delta_t[i]\n",
    "        athletes_times[athlete_id].append(round(temp, 2))"
   ]
  },
  {
   "cell_type": "code",
   "execution_count": 7,
   "id": "e9b18082",
   "metadata": {},
   "outputs": [
    {
     "name": "stdout",
     "output_type": "stream",
     "text": [
      "[{'a5': 15.43, 'a1': 15.79, 'a3': 16.34}, {'a4': 20.44, 'a2': 20.79}, {'a5': 25.43, 'a1': 25.79, 'a3': 26.34}, {'a4': 30.36, 'a2': 30.89}, {'a5': 35.43, 'a1': 35.79, 'a3': 36.34}, {'a4': 40.45, 'a2': 40.79}, {'a5': 45.43, 'a1': 45.79, 'a3': 46.34}, {'a4': 50.39, 'a2': 50.79}]\n",
      "[[15.43, 15.68, 15.99, 16.42], [20.41, 20.77], [25.37, 25.68, 25.99, 26.42], [30.32], [35.68, 35.99, 36.42], [40.55], [45.68, 45.89, 45.99, 46.42], [50.39, 50.42, 50.68, 50.77]]\n"
     ]
    }
   ],
   "source": [
    "# 处理rfids原始数据\n",
    "rfids = deal_rfids(rfids_init)\n",
    "# 处理计时器原始数据\n",
    "timers = deal_timers(rfids, timers_init)\n",
    "# 将rfids转换为需要的格式\n",
    "rfids = trans_form(rfids)\n",
    "print(rfids)\n",
    "print(timers)"
   ]
  },
  {
   "cell_type": "code",
   "execution_count": 8,
   "id": "33c6b9be",
   "metadata": {},
   "outputs": [
    {
     "data": {
      "text/plain": [
       "{'a1': [15.79, 25.73, 36.04, 46.04],\n",
       " 'a2': [20.76, 30.85, 40.89, 50.79],\n",
       " 'a3': [16.34, 26.28, 36.59, 46.59],\n",
       " 'a4': [20.41, 30.32, 40.55, 50.39],\n",
       " 'a5': [15.43, 25.37, 35.68, 45.68]}"
      ]
     },
     "execution_count": 8,
     "metadata": {},
     "output_type": "execute_result"
    }
   ],
   "source": [
    "# 存储运动员时间\n",
    "athletes_times = {'a1': [], 'a2': [], 'a3': [], 'a4': [], 'a5': []}\n",
    "# 处理数据，得到运动员时间。\n",
    "for i in range(len(rfids)):\n",
    "    rfid = rfids[i]\n",
    "    timer = timers[i]\n",
    "    add_time(rfid, timer)\n",
    "# show\n",
    "athletes_times"
   ]
  },
  {
   "cell_type": "code",
   "execution_count": null,
   "id": "245f85e2",
   "metadata": {},
   "outputs": [],
   "source": []
  },
  {
   "cell_type": "code",
   "execution_count": null,
   "id": "029a2612",
   "metadata": {},
   "outputs": [],
   "source": []
  }
 ],
 "metadata": {
  "kernelspec": {
   "display_name": "Python 3",
   "language": "python",
   "name": "python3"
  },
  "language_info": {
   "codemirror_mode": {
    "name": "ipython",
    "version": 3
   },
   "file_extension": ".py",
   "mimetype": "text/x-python",
   "name": "python",
   "nbconvert_exporter": "python",
   "pygments_lexer": "ipython3",
   "version": "3.6.13"
  }
 },
 "nbformat": 4,
 "nbformat_minor": 5
}
