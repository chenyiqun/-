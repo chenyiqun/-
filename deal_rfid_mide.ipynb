{
 "cells": [
  {
   "cell_type": "code",
   "execution_count": 1,
   "id": "955bb341",
   "metadata": {},
   "outputs": [],
   "source": [
    "import random"
   ]
  },
  {
   "cell_type": "code",
   "execution_count": 2,
   "id": "a276d453",
   "metadata": {},
   "outputs": [],
   "source": [
    "# 处理原始的rfid数据\n",
    "def deal_rfids(rfids_init):\n",
    "\n",
    "    rfids = []\n",
    "\n",
    "    last_t = rfids_init[0][1]\n",
    "    temp = []\n",
    "    for i in range(len(rfids_init)):\n",
    "        delta_t = rfids_init[i][1] - last_t\n",
    "        last_t = rfids_init[i][1]\n",
    "        if delta_t <= 1:\n",
    "            temp.append(rfids_init[i])\n",
    "        else:\n",
    "            rfids.append(temp)\n",
    "            temp = [rfids_init[i]]\n",
    "    rfids.append(temp)\n",
    "    \n",
    "    return rfids\n",
    "\n",
    "# 处理原始的计时器数据\n",
    "def deal_timers(timers_init):\n",
    "    \n",
    "    timers = []\n",
    "    \n",
    "    last_t = timers_init[0]\n",
    "    temp = []\n",
    "    for i in range(len(timers_init)):\n",
    "        delta_t = timers_init[i] - last_t\n",
    "        last_t = timers_init[i]\n",
    "        if delta_t <= 1:\n",
    "            temp.append(timers_init[i])\n",
    "        else:\n",
    "            timers.append(temp)\n",
    "            temp = [timers_init[i]]\n",
    "    timers.append(temp)\n",
    "    \n",
    "    return timers\n",
    "\n",
    "def match_cluster_1():\n",
    "    \n",
    "    rfids = deal_rfids(rfids_init)\n",
    "    timers = deal_timers(timers_init)\n",
    "    \n",
    "    rfids_timers = []\n",
    "    \n",
    "    for rfid in rfids:\n",
    "        r_maxt = rfid[-1][1]\n",
    "        for timer in timers:\n",
    "            t_mint = timer[0]\n",
    "            if r_maxt < t_mint:\n",
    "                rfids_timers.append([rfid, timer])\n",
    "                break\n",
    "    \n",
    "    return rfids_timers\n",
    "\n",
    "def match_cluster_2():\n",
    "    \n",
    "    rfids = deal_rfids(rfids_init)\n",
    "    timers = deal_timers(timers_init)\n",
    "    \n",
    "    rfids_timers = []\n",
    "    \n",
    "    for rfid in rfids:\n",
    "        r_mint = rfid[0][1]\n",
    "        flag = 0\n",
    "        for i in range(len(timers)-1):\n",
    "            if r_mint >= timers[i][-1] and r_mint <= timers[i+1][-1]:\n",
    "                rfids_timers.append([rfid, timers[i]])\n",
    "                flag = 1\n",
    "                break\n",
    "        if flag == 0:\n",
    "            rfids_timers.append([rfid, timers[-1]])\n",
    "    \n",
    "    return rfids_timers\n",
    "\n",
    "def add_time(mode):\n",
    "    \n",
    "    if mode == 1:\n",
    "        rfids_timers = match_cluster_1()\n",
    "    elif mode == 2:\n",
    "        rfids_timers = match_cluster_2()\n",
    "    \n",
    "    for rfid_timer in rfids_timers:\n",
    "        \n",
    "        first_athlete_id = rfid_timer[0][0][0]\n",
    "        first_athlete_time = rfid_timer[1][0]\n",
    "        \n",
    "        delta_t = []\n",
    "        ordered_time = rfid_timer[0]\n",
    "        for i in range(1, len(ordered_time)):\n",
    "            temp = ordered_time[i][1] - ordered_time[i-1][1]\n",
    "            delta_t.append(temp)\n",
    "        \n",
    "        t = first_athlete_time\n",
    "        for i in range(len(ordered_time)):\n",
    "            athletes_times[ordered_time[i][0]].append(round(t, 2))\n",
    "            if i < len(delta_t):\n",
    "                t += delta_t[i]"
   ]
  },
  {
   "cell_type": "markdown",
   "id": "e8680539",
   "metadata": {},
   "source": [
    "# rfid放到timer后面"
   ]
  },
  {
   "cell_type": "code",
   "execution_count": 5,
   "id": "47a2dc70",
   "metadata": {},
   "outputs": [],
   "source": [
    "# 存储运动员时间\n",
    "athletes_times = {'a1': [], 'a2': [], 'a3': [], 'a4': [], 'a5': []}"
   ]
  },
  {
   "cell_type": "code",
   "execution_count": 6,
   "id": "6617e550",
   "metadata": {},
   "outputs": [],
   "source": [
    "# 原始数据（针对某一套计时器和RFID）\n",
    "rfids_init = [('a5', 15.43),\n",
    " ('a1', 15.79),\n",
    " ('a3', 16.34),\n",
    " ('a4', 20.44),\n",
    " ('a2', 20.79),\n",
    " ('a5', 25.43),\n",
    " ('a1', 25.79),\n",
    " ('a3', 26.34),\n",
    " ('a4', 30.36),\n",
    " ('a2', 30.89),\n",
    " ('a5', 35.43),\n",
    " ('a1', 35.79),\n",
    " ('a3', 36.34),\n",
    " ('a4', 40.45),\n",
    " ('a2', 40.79),\n",
    " ('a5', 45.43),\n",
    " ('a1', 45.79),\n",
    " ('a3', 46.34),\n",
    " ('a4', 50.39),\n",
    " ('a2', 50.79)]\n",
    "\n",
    "timers_init = [12.43,\n",
    " 12.68,\n",
    " 12.99,\n",
    " 13.42,\n",
    " 18.41,\n",
    " 18.77,\n",
    " 23.05,\n",
    " 23.36,\n",
    " 23.67,\n",
    " 24.1,\n",
    " 27.35,\n",
    " 32.99,\n",
    " 33.3,\n",
    " 33.73,\n",
    " 38.48,\n",
    " 42.68,\n",
    " 42.89,\n",
    " 42.99,\n",
    " 43.42,\n",
    " 47.64,\n",
    " 47.67,\n",
    " 47.93,\n",
    " 48.02]"
   ]
  },
  {
   "cell_type": "code",
   "execution_count": 7,
   "id": "5d55c0c6",
   "metadata": {},
   "outputs": [],
   "source": [
    "add_time(mode=2)"
   ]
  },
  {
   "cell_type": "code",
   "execution_count": 8,
   "id": "ffd6f152",
   "metadata": {},
   "outputs": [
    {
     "data": {
      "text/plain": [
       "{'a1': [12.79, 23.41, 33.35, 43.04],\n",
       " 'a2': [18.76, 27.88, 38.82, 48.04],\n",
       " 'a3': [13.34, 23.96, 33.9, 43.59],\n",
       " 'a4': [18.41, 27.35, 38.48, 47.64],\n",
       " 'a5': [12.43, 23.05, 32.99, 42.68]}"
      ]
     },
     "execution_count": 8,
     "metadata": {},
     "output_type": "execute_result"
    }
   ],
   "source": [
    "athletes_times"
   ]
  },
  {
   "cell_type": "markdown",
   "id": "521c27da",
   "metadata": {},
   "source": [
    "# rfid放到timer前面"
   ]
  },
  {
   "cell_type": "code",
   "execution_count": 12,
   "id": "8856df0f",
   "metadata": {},
   "outputs": [],
   "source": [
    "# 存储运动员时间\n",
    "athletes_times = {'a1': [], 'a2': [], 'a3': [], 'a4': [], 'a5': []}"
   ]
  },
  {
   "cell_type": "code",
   "execution_count": 13,
   "id": "728c6460",
   "metadata": {},
   "outputs": [],
   "source": [
    "# 原始数据（针对某一套计时器和RFID）\n",
    "rfids_init = [('a5', 15.43),\n",
    " ('a1', 15.79),\n",
    " ('a3', 16.34),\n",
    " ('a4', 20.44),\n",
    " ('a2', 20.79),\n",
    " ('a5', 25.43),\n",
    " ('a1', 25.79),\n",
    " ('a3', 26.34),\n",
    " ('a4', 30.36),\n",
    " ('a2', 30.89),\n",
    " ('a5', 35.43),\n",
    " ('a1', 35.79),\n",
    " ('a3', 36.34),\n",
    " ('a4', 40.45),\n",
    " ('a2', 40.79),\n",
    " ('a5', 45.43),\n",
    " ('a1', 45.79),\n",
    " ('a3', 46.34),\n",
    " ('a4', 50.39),\n",
    " ('a2', 50.79)]\n",
    "\n",
    "timers_init = [17.6,\n",
    " 17.85,\n",
    " 18.16,\n",
    " 18.59,\n",
    " 22.58,\n",
    " 22.94,\n",
    " 27.85,\n",
    " 28.16,\n",
    " 28.47,\n",
    " 28.9,\n",
    " 33.2,\n",
    " 37.77,\n",
    " 38.08,\n",
    " 38.51,\n",
    " 43.53,\n",
    " 47.78,\n",
    " 47.99,\n",
    " 48.09,\n",
    " 48.52,\n",
    " 52.82,\n",
    " 52.85,\n",
    " 53.11,\n",
    " 53.2]"
   ]
  },
  {
   "cell_type": "code",
   "execution_count": 14,
   "id": "57be56b3",
   "metadata": {},
   "outputs": [],
   "source": [
    "add_time(mode=1)"
   ]
  },
  {
   "cell_type": "code",
   "execution_count": 15,
   "id": "42c687c4",
   "metadata": {},
   "outputs": [
    {
     "data": {
      "text/plain": [
       "{'a1': [17.96, 28.21, 38.13, 48.14],\n",
       " 'a2': [22.93, 33.73, 43.87, 53.22],\n",
       " 'a3': [18.51, 28.76, 38.68, 48.69],\n",
       " 'a4': [22.58, 33.2, 43.53, 52.82],\n",
       " 'a5': [17.6, 27.85, 37.77, 47.78]}"
      ]
     },
     "execution_count": 15,
     "metadata": {},
     "output_type": "execute_result"
    }
   ],
   "source": [
    "athletes_times"
   ]
  },
  {
   "cell_type": "code",
   "execution_count": null,
   "id": "230dc578",
   "metadata": {},
   "outputs": [],
   "source": []
  }
 ],
 "metadata": {
  "kernelspec": {
   "display_name": "Python 3",
   "language": "python",
   "name": "python3"
  },
  "language_info": {
   "codemirror_mode": {
    "name": "ipython",
    "version": 3
   },
   "file_extension": ".py",
   "mimetype": "text/x-python",
   "name": "python",
   "nbconvert_exporter": "python",
   "pygments_lexer": "ipython3",
   "version": "3.6.13"
  }
 },
 "nbformat": 4,
 "nbformat_minor": 5
}
